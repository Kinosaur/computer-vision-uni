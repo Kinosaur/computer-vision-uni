{
 "cells": [
  {
   "cell_type": "code",
   "execution_count": null,
   "id": "781d9b37",
   "metadata": {},
   "outputs": [],
   "source": [
    "# Resize all images in tattoo folder to 512x512 and save to train_HR\n",
    "import os\n",
    "from PIL import Image"
   ]
  },
  {
   "cell_type": "code",
   "execution_count": null,
   "id": "1593adf1",
   "metadata": {},
   "outputs": [],
   "source": [
    "input_dir = 'tattoo'\n",
    "output_dir = 'train_LR'\n",
    "target_size = (128, 128)\n",
    "\n",
    "if not os.path.exists(output_dir):\n",
    "    os.makedirs(output_dir)\n",
    "\n",
    "image_extensions = ('.jpg', '.jpeg', '.png', '.bmp', '.gif', '.tiff', '.webp')\n",
    "\n",
    "for filename in os.listdir(input_dir):\n",
    "    if not filename.lower().endswith(image_extensions):\n",
    "        continue\n",
    "    input_path = os.path.join(input_dir, filename)\n",
    "    output_path = os.path.join(output_dir, filename)\n",
    "    try:\n",
    "        with Image.open(input_path) as img:\n",
    "            img = img.convert('RGB')\n",
    "            img_resized = img.resize(target_size, Image.LANCZOS)\n",
    "            img_resized.save(output_path)\n",
    "        print(f'Resized and saved: {filename}')\n",
    "    except Exception as e:\n",
    "        print(f'Error processing {filename}: {e}')"
   ]
  }
 ],
 "metadata": {
  "kernelspec": {
   "display_name": "Project-ksHmrzpc",
   "language": "python",
   "name": "python3"
  },
  "language_info": {
   "codemirror_mode": {
    "name": "ipython",
    "version": 3
   },
   "file_extension": ".py",
   "mimetype": "text/x-python",
   "name": "python",
   "nbconvert_exporter": "python",
   "pygments_lexer": "ipython3",
   "version": "3.10.16"
  }
 },
 "nbformat": 4,
 "nbformat_minor": 5
}
